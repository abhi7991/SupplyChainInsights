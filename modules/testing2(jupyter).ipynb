{
 "cells": [
  {
   "cell_type": "code",
   "execution_count": 9,
   "id": "1f0e30b2",
   "metadata": {},
   "outputs": [
    {
     "name": "stderr",
     "output_type": "stream",
     "text": [
      "Received notification from DBMS server: {severity: WARNING} {code: Neo.ClientNotification.Statement.FeatureDeprecationWarning} {category: DEPRECATION} {title: This feature is deprecated and will be removed in future versions.} {description: The query used a deprecated field from a procedure. ('advertisedListenAddress' returned by 'gds.debug.arrow' is deprecated.)} {position: line: 1, column: 1, offset: 0} for query: 'CALL gds.debug.arrow()'\n",
      "Received notification from DBMS server: {severity: WARNING} {code: Neo.ClientNotification.Statement.FeatureDeprecationWarning} {category: DEPRECATION} {title: This feature is deprecated and will be removed in future versions.} {description: The query used a deprecated field from a procedure. ('serverLocation' returned by 'gds.debug.arrow' is deprecated.)} {position: line: 1, column: 1, offset: 0} for query: 'CALL gds.debug.arrow()'\n"
     ]
    },
    {
     "name": "stdout",
     "output_type": "stream",
     "text": [
      "\n",
      "\n",
      "\u001b[1m> Entering new AgentExecutor chain...\u001b[0m\n",
      "\u001b[32;1m\u001b[1;3m\n",
      "Invoking: `chat` with `{'que': 'Number of brands by each vendor'}`\n",
      "\n",
      "\n",
      "\u001b[0m\n",
      "\n",
      "\u001b[1m> Entering new GraphCypherQAChain chain...\u001b[0m\n",
      "Generated Cypher:\n",
      "\u001b[32;1m\u001b[1;3mMATCH (v:Vendor)-[:VENDOR]->(p:Product)-[:BRAND]->(b:Brand) \n",
      "WITH v.name as Vendor, count(DISTINCT b) as NumberOfBrands \n",
      "RETURN Vendor, NumberOfBrands\u001b[0m\n",
      "\n",
      "\u001b[1m> Finished chain.\u001b[0m\n"
     ]
    },
    {
     "name": "stderr",
     "output_type": "stream",
     "text": [
      "C:\\Users\\abhis\\AppData\\Local\\Continuum\\anaconda3\\envs\\streamlit\\lib\\site-packages\\langchain_core\\_api\\deprecation.py:139: LangChainDeprecationWarning: The class `LLMChain` was deprecated in LangChain 0.1.17 and will be removed in 1.0. Use RunnableSequence, e.g., `prompt | llm` instead.\n",
      "  warn_deprecated(\n"
     ]
    },
    {
     "name": "stdout",
     "output_type": "stream",
     "text": [
      "\u001b[33;1m\u001b[1;3m- MEDMIRA EAST AFRICA LTD.: 1 brand\n",
      "- RANBAXY Fine Chemicals LTD.: 1 brand\n",
      "- CIPLA LIMITED: 1 brand\n",
      "- SCMS from RDC: 24 brands\n",
      "- Aurobindo Pharma Limited: 1 brand\n",
      "- HETERO LABS LIMITED: 1 brand\n",
      "- STRIDES ARCOLAB LIMITED: 1 brand\n",
      "- PHARMACY DIRECT: 10 brands\n",
      "- MICRO LABS LIMITED: 1 brand\n",
      "- EMCURE PHARMACEUTICALS LTD: 1 brand\u001b[0m\u001b[32;1m\u001b[1;3mHere is the number of brands by each vendor:\n",
      "- MEDMIRA EAST AFRICA LTD.: 1 brand\n",
      "- RANBAXY Fine Chemicals LTD.: 1 brand\n",
      "- CIPLA LIMITED: 1 brand\n",
      "- SCMS from RDC: 24 brands\n",
      "- Aurobindo Pharma Limited: 1 brand\n",
      "- HETERO LABS LIMITED: 1 brand\n",
      "- STRIDES ARCOLAB LIMITED: 1 brand\n",
      "- PHARMACY DIRECT: 10 brands\n",
      "- MICRO LABS LIMITED: 1 brand\n",
      "- EMCURE PHARMACEUTICALS LTD: 1 brand\u001b[0m\n",
      "\n",
      "\u001b[1m> Finished chain.\u001b[0m\n",
      "{'input': 'Give me the number of brands by each vendor?', 'chat_history': [HumanMessage(content='Give me the number of brands by each vendor?'), AIMessage(content='Here is the number of brands by each vendor:\\n- MEDMIRA EAST AFRICA LTD.: 1 brand\\n- RANBAXY Fine Chemicals LTD.: 1 brand\\n- CIPLA LIMITED: 1 brand\\n- SCMS from RDC: 24 brands\\n- Aurobindo Pharma Limited: 1 brand\\n- HETERO LABS LIMITED: 1 brand\\n- STRIDES ARCOLAB LIMITED: 1 brand\\n- PHARMACY DIRECT: 10 brands\\n- MICRO LABS LIMITED: 1 brand\\n- EMCURE PHARMACEUTICALS LTD: 1 brand')], 'output': 'Here is the number of brands by each vendor:\\n- MEDMIRA EAST AFRICA LTD.: 1 brand\\n- RANBAXY Fine Chemicals LTD.: 1 brand\\n- CIPLA LIMITED: 1 brand\\n- SCMS from RDC: 24 brands\\n- Aurobindo Pharma Limited: 1 brand\\n- HETERO LABS LIMITED: 1 brand\\n- STRIDES ARCOLAB LIMITED: 1 brand\\n- PHARMACY DIRECT: 10 brands\\n- MICRO LABS LIMITED: 1 brand\\n- EMCURE PHARMACEUTICALS LTD: 1 brand', 'intermediate_steps': [(AgentActionMessageLog(tool='chat', tool_input={'que': 'Number of brands by each vendor'}, log=\"\\nInvoking: `chat` with `{'que': 'Number of brands by each vendor'}`\\n\\n\\n\", message_log=[AIMessageChunk(content='', additional_kwargs={'function_call': {'arguments': '{\"que\":\"Number of brands by each vendor\"}', 'name': 'chat'}}, response_metadata={'finish_reason': 'function_call'}, id='run-97193236-801a-49c1-af8b-39a407bdd084')]), '- MEDMIRA EAST AFRICA LTD.: 1 brand\\n- RANBAXY Fine Chemicals LTD.: 1 brand\\n- CIPLA LIMITED: 1 brand\\n- SCMS from RDC: 24 brands\\n- Aurobindo Pharma Limited: 1 brand\\n- HETERO LABS LIMITED: 1 brand\\n- STRIDES ARCOLAB LIMITED: 1 brand\\n- PHARMACY DIRECT: 10 brands\\n- MICRO LABS LIMITED: 1 brand\\n- EMCURE PHARMACEUTICALS LTD: 1 brand')]}\n"
     ]
    }
   ],
   "source": [
    "# -*- coding: utf-8 -*-\n",
    "\"\"\"\n",
    "Created on Tue Jul  2 10:16:16 2024\n",
    "\n",
    "@author: abhis\n",
    "\"\"\"\n",
    "\n",
    "import os\n",
    "import sys\n",
    "\n",
    "file_dir = os.path.dirname(os.getcwd())\n",
    "sys.path.append(file_dir) \n",
    "import pandas as pd\n",
    "from neo4j import GraphDatabase\n",
    "import os\n",
    "import requests\n",
    "import json\n",
    "import requests\n",
    "import numpy as np\n",
    "from graphdatascience import GraphDataScience\n",
    "wd = os.getcwd()\n",
    "from dotenv import load_dotenv\n",
    "import graph_build,create_plot_embeddings\n",
    "from modules import plot_vector_search,qa_bot,visualiser\n",
    "import openai\n",
    "from langchain.chat_models import ChatOpenAI\n",
    "from langchain.prompts import ChatPromptTemplate\n",
    "from langchain.tools.render import format_tool_to_openai_function\n",
    "from langchain.agents.output_parsers import OpenAIFunctionsAgentOutputParser\n",
    "from langchain.prompts import MessagesPlaceholder\n",
    "from langchain.memory import ConversationBufferMemory\n",
    "from langchain.schema.runnable import RunnablePassthrough\n",
    "from langchain.schema.agent import AgentFinish\n",
    "from langchain.agents.format_scratchpad import format_to_openai_functions\n",
    "from langchain.agents import AgentExecutor\n",
    "\n",
    "\n",
    "load_dotenv()\n",
    "\n",
    "#openai.api_key = os.environ['OPENAI_API_KEY']\n",
    "database = os.getenv('NEO4J_DATABASE')\n",
    "uri, user, password = os.getenv('NEO4J_URI'), os.getenv('NEO4J_USER'),'@PromptEngg'\n",
    "gds = GraphDataScience(\n",
    "    uri,\n",
    "    auth = (user, password), database=database\n",
    ")       \n",
    "\n",
    "def graph_init():\n",
    "     '''\n",
    "     One time process - Incase starting from scratch use this to create graph, and embeddings for plot\n",
    "     '''\n",
    "     print(\"Graph and Embeddings already Created - Check modules.utils to enable\")\n",
    "     #graph_build.create_logistics_graph()\n",
    "     #create_plot_embeddings.create_plot_embeddings()\n",
    "    \n",
    "def chat_bot(query):\n",
    "    '''\n",
    "    Chatbot with functions to answer questions related to the movies\n",
    "    '''\n",
    "    tools=[plot_vector_search.vectorSearch,qa_bot.chat,visualiser.visualise]\n",
    "    functions = [format_tool_to_openai_function(f) for f in tools]\n",
    "    model = ChatOpenAI(temperature=0).bind(functions=functions)\n",
    "    memory = ConversationBufferMemory(return_messages=True,memory_key=\"chat_history\",run_intermediate_steps=True,return_direct=True)\n",
    "\n",
    "    promptengg = \"\"\"You are a helpful assistant specialized in providing insights and information related to supply chains, specifically focusing on the SupplyChainInsights application. Your expertise includes understanding and explaining the intricacies of supply chain data, including commodity shipments, pricing trends, and logistics. You should only respond to queries related to:\n",
    "\n",
    "                Analyzing trends and ranges in the pricing of health commodities.\n",
    "                Understanding the volume and movement of Antiretroviral (ARV) and HIV lab shipments.\n",
    "                Insights into the supply chain logistics, including costs and lead times by product and country.\n",
    "                Comparing and contrasting data from the SupplyChainInsights application with the Global Fund's Price, Quality, and Reporting (PQR) data.\n",
    "                Any other questions related to understanding supply chain concepts, data, and insights within the context of the provided dataset.\n",
    "                Please refrain from discussing topics outside of these areas. Your responses should be concise, informative, and tailored to help users make better data-driven decisions regarding supply chain management.\"\"\"\n",
    "\n",
    "    prompt = ChatPromptTemplate.from_messages([\n",
    "        (\"system\", promptengg),\n",
    "        MessagesPlaceholder(variable_name=\"chat_history\"),\n",
    "        (\"user\", \"{input}\"),\n",
    "        MessagesPlaceholder(variable_name=\"agent_scratchpad\")\n",
    "    ])\n",
    "    chain = RunnablePassthrough.assign(\n",
    "        agent_scratchpad = lambda x: format_to_openai_functions(x[\"intermediate_steps\"])\n",
    "    ) | prompt | model | OpenAIFunctionsAgentOutputParser()\n",
    "    qa = AgentExecutor(agent=chain, tools=tools, verbose=True, memory=memory,return_intermediate_steps=True)\n",
    "    result = qa.invoke({\"input\": query})\n",
    "    if result['intermediate_steps'][0][0].tool=='visualise':\n",
    "        answer = result['intermediate_steps'][0][-1]\n",
    "        answer['Tool'] = 'visualise'\n",
    "    else:\n",
    "        answer = result['output'] \n",
    "    return answer   \n",
    "\n",
    "\n",
    "a = chat_bot(\"Give me a Line chart of the number of brands by each vendor?\")\n",
    "print(a)"
   ]
  },
  {
   "cell_type": "code",
   "execution_count": 12,
   "id": "61cc4e7f-113a-4094-bffb-7025b008a0b5",
   "metadata": {},
   "outputs": [
    {
     "data": {
      "text/plain": [
       "True"
      ]
     },
     "execution_count": 12,
     "metadata": {},
     "output_type": "execute_result"
    }
   ],
   "source": [
    "type(a)==dict"
   ]
  },
  {
   "cell_type": "code",
   "execution_count": 6,
   "id": "eb9b6cf6-f950-454c-ba9a-35af27a01a4a",
   "metadata": {},
   "outputs": [
    {
     "name": "stdout",
     "output_type": "stream",
     "text": [
      "C:\\Users\\abhis\\Desktop\\NEU\\INFO7375\n",
      "Image file not found at the specified path.\n"
     ]
    }
   ],
   "source": [
    "def display_result(result_text):\n",
    "    # Define a regular expression pattern to detect a file path\n",
    "    path_pattern = r'([a-zA-Z]:\\\\[\\\\a-zA-Z0-9._-]+)'\n",
    "\n",
    "    # Search for the path in the result_text\n",
    "    match = re.search(path_pattern, result_text)\n",
    "\n",
    "    if match:\n",
    "        image_path = match.group(1)\n",
    "        print(image_path)\n",
    "        if os.path.exists(image_path):\n",
    "            # Display the image using PIL or another appropriate method\n",
    "            image = Image.open(image_path)\n",
    "            image.show()\n",
    "            # Alternatively, display using matplotlib\n",
    "            plt.imshow(image)\n",
    "            plt.axis('off')\n",
    "            plt.show()\n",
    "        else:\n",
    "            print(\"Image file not found at the specified path.\")\n",
    "    else:\n",
    "        print(result_text)\n",
    "import re\n",
    "display_result(a['output'])"
   ]
  },
  {
   "cell_type": "code",
   "execution_count": null,
   "id": "2fb10341-9e9f-4e9e-a482-813d9138168f",
   "metadata": {},
   "outputs": [],
   "source": []
  }
 ],
 "metadata": {
  "kernelspec": {
   "display_name": "Python 3 (ipykernel)",
   "language": "python",
   "name": "python3"
  },
  "language_info": {
   "codemirror_mode": {
    "name": "ipython",
    "version": 3
   },
   "file_extension": ".py",
   "mimetype": "text/x-python",
   "name": "python",
   "nbconvert_exporter": "python",
   "pygments_lexer": "ipython3",
   "version": "3.8.19"
  }
 },
 "nbformat": 4,
 "nbformat_minor": 5
}
